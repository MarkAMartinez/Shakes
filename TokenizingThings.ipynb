{
 "cells": [
  {
   "cell_type": "code",
   "execution_count": 48,
   "metadata": {
    "collapsed": true
   },
   "outputs": [],
   "source": [
    "import nltk\n",
    "import parse_corpus\n",
    "from nltk.corpus import stopwords\n",
    "from nltk.stem import PorterStemmer\n",
    "from matplotlib import pyplot as plt\n",
    "import seaborn as sns\n",
    "import os\n",
    "\n",
    "import numpy as np\n",
    "\n",
    "import lda"
   ]
  },
  {
   "cell_type": "markdown",
   "metadata": {},
   "source": [
    "# Split into sections"
   ]
  },
  {
   "cell_type": "code",
   "execution_count": 49,
   "metadata": {
    "collapsed": true
   },
   "outputs": [],
   "source": [
    "filename = \"preprocessed_shakespeare.txt\"\n",
    "castfile = \"curated_cast.txt\"\n",
    "\n",
    "sections = parse_corpus.process(filename)\n",
    "castdict = {}\n",
    "for line in open(castfile):\n",
    "    words = nltk.word_tokenize(line.strip())\n",
    "    for word in words:\n",
    "        castdict[word.lower()] = True"
   ]
  },
  {
   "cell_type": "code",
   "execution_count": 50,
   "metadata": {
    "collapsed": true
   },
   "outputs": [],
   "source": [
    "# with open(\"/Users/markmartinez/Desktop/shakespeare.txt\",\"r\") as F:\n",
    "#     allText = F.read().lower()"
   ]
  },
  {
   "cell_type": "markdown",
   "metadata": {},
   "source": [
    "# Remove stopwords, tokenize, stem (takes about 30 seconds)"
   ]
  },
  {
   "cell_type": "code",
   "execution_count": 51,
   "metadata": {},
   "outputs": [
    {
     "name": "stdout",
     "output_type": "stream",
     "text": [
      "palac enter black deliv buri husband go madam weep death anew must attend majesti command ward evermor subject shall find husband madam sir gener time good must necess hold virtu whose worthi would stir want rather lack abund hope majesti amend hath abandon physician madam whose practic hath persecut time hope find advantag process lose hope time sad passag skill almost great honesti stretch far would made natur immort death play lack work would sake live think would death diseas call speak mada\n"
     ]
    }
   ],
   "source": [
    "stops = stopwords.words(\"english\")\n",
    "stopdict = dict((s.lower(),None) for s in stops) # Sets are really terrible in Python\n",
    "# print [s for s in stopdict.iterkeys()]\n",
    "\n",
    "ps = PorterStemmer()\n",
    "\n",
    "clean_sections = []\n",
    "\n",
    "# NOTE(tfs): I am using tokenization now. Mainly it really cleans up punctuation and handles contractions well\n",
    "for section in sections:\n",
    "#     secwords = section.split()\n",
    "#     tokens = nltk.word_tokenize(\" \".join(secwords))\n",
    "    tokens = nltk.word_tokenize(section)\n",
    "    nonstops = [w for w in tokens if not (w.lower() in stopdict or w.lower() in castdict)]\n",
    "    stemmed = [ps.stem(t.lower()) for t in nonstops if t.isalnum()]\n",
    "#     nonstops = [w for w in stemmed if not (w in stopdict or w in castdict)]\n",
    "    clean_sections.append(\" \".join(stemmed)) # Note this does not preserve structure,\n",
    "                                              #      but all words are now present in the section string\n",
    "print clean_sections[0][:500]"
   ]
  },
  {
   "cell_type": "code",
   "execution_count": 52,
   "metadata": {
    "collapsed": true
   },
   "outputs": [],
   "source": [
    "# stops = set(stopwords.words(\"english\"))\n",
    "# words = allText.split()\n",
    "# meaningful_words = [w for w in words if not w in stops]\n",
    "# cleanedUp =  \" \".join( meaningful_words )"
   ]
  },
  {
   "cell_type": "code",
   "execution_count": 53,
   "metadata": {
    "collapsed": true
   },
   "outputs": [],
   "source": [
    "# cleanedUp[0:500]"
   ]
  },
  {
   "cell_type": "code",
   "execution_count": 54,
   "metadata": {
    "collapsed": true
   },
   "outputs": [],
   "source": [
    "#now split on 'scene'\n",
    "# scenes = [x.strip() for x in cleanedUp.split(\"scene\")]"
   ]
  },
  {
   "cell_type": "code",
   "execution_count": 55,
   "metadata": {
    "collapsed": true
   },
   "outputs": [],
   "source": [
    "# Initialize the \"CountVectorizer\" object, which is scikit-learn's\n",
    "# bag of words tool.  \n",
    "from sklearn.feature_extraction.text import CountVectorizer\n",
    "\n",
    "vectorizer = CountVectorizer(analyzer = \"word\")\n",
    "\n",
    "data = vectorizer.fit_transform(clean_sections)\n",
    "\n",
    "# Numpy arrays are easy to work with, so convert the result to an \n",
    "# array\n",
    "train_data_features = data.toarray()\n",
    "\n",
    "vocab = vectorizer.get_feature_names()"
   ]
  },
  {
   "cell_type": "code",
   "execution_count": 56,
   "metadata": {},
   "outputs": [
    {
     "name": "stdout",
     "output_type": "stream",
     "text": [
      "402\n",
      "12740\n",
      "[u'acquit', u'acquitt', u'acr', u'across', u'act', u'actaeon', u'action', u'actium', u'activ', u'actor', u'actual', u'acut', u'ad', u'adag', u'adalla', u'adam', u'add', u'adder', u'addict', u'addit', u'addl', u'address', u'addrest', u'adher', u'adieu', u'adjac', u'adjoin', u'adjourn', u'adjudg', u'adjunct', u'administ', u'administr', u'admir', u'admiringli', u'admit', u'admitt', u'admonish', u'admonit', u'ado', u'adoni', u'adopt', u'adoptedli', u'adopti', u'ador', u'adorest', u'adoreth', u'adorn', u'adramadio', u'adriat', u'adsum', u'adul', u'adulter', u'adulteress', u'adulteri', u'adultress', u'advanc', u'advantag', u'adventur', u'advers', u'adversari', u'adverti', u'advertis', u'advi', u'advic', u'advis', u'advisedli', u'advoc', u'aeacid', u'aeacida', u'aedil', u'aegl', u'aeolu', u'aer', u'aeri', u'aerial', u'aesculapiu', u'aeson', u'aesop', u'aetna', u'afar', u'afear', u'afeard', u'affabl', u'affair', u'affect', u'affecteth', u'affection', u'affeer', u'affi', u'affianc', u'affin', u'affirm', u'afflict', u'afford', u'affordeth', u'affright', u'affront', u'afield', u'afir', u'afloat', u'afoot', u'afor', u'aforehand', u'aforesaid', u'afraid', u'afresh', u'afric', u'africa', u'african', u'afternoon', u'afterward', u'ag', u'agamemmon', u'agat', u'agaz', u'age', u'agenor', u'agent', u'aggrav', u'aggrief', u'agil', u'agincourt', u'agit', u'agniz', u'ago', u'agon', u'agoni', u'agre', u'agreement', u'aground', u'agu', u'aguefac', u'ah', u'ahungri', u'ai', u'aialvolio', u'aiaria', u'aid', u'aidanc', u'aidless', u'ail', u'aim', u'aimest', u'ainsi', u'air', u'airi', u'airless', u'akil', u'ala', u'alabast', u'alack', u'alacr', u'alarm', u'alarum', u'alb', u'alban', u'albeit', u'albion', u'alchemi', u'alchemist', u'alcid', u'aldermen', u'ale', u'alecto', u'alehous', u'alengon', u'aleppo', u'alewif', u'alexand', u'alexandria', u'alexandrian', u'alia', u'alic', u'alien', u'aliena', u'alight', u'alik', u'alisand', u'aliv', u'alla', u'allay', u'alleg', u'allegi', u'alley', u'allhallowma', u'alli', u'allianc', u'allicholi', u'allig', u'allon', u'allot', u'allotteri', u'allow', u'allur', u'allus', u'allycholli', u'alm', u'almain', u'almanac', u'almanack']\n"
     ]
    }
   ],
   "source": [
    "print sum(train_data_features[300])\n",
    "print len(vocab)\n",
    "print vocab[100:300]"
   ]
  },
  {
   "cell_type": "code",
   "execution_count": 57,
   "metadata": {},
   "outputs": [
    {
     "name": "stdout",
     "output_type": "stream",
     "text": [
      "<class 'scipy.sparse.csr.csr_matrix'>\n"
     ]
    }
   ],
   "source": [
    "# vocab = vectorizer.get_feature_names()\n",
    "# print(len(vocab))\n",
    "\n",
    "print type(data)"
   ]
  },
  {
   "cell_type": "code",
   "execution_count": 58,
   "metadata": {
    "collapsed": true
   },
   "outputs": [],
   "source": [
    "# # import numpy as np\n",
    "\n",
    "# # Sum up the counts of each vocabulary word\n",
    "# dist = np.sum(data, axis=0)\n",
    "\n",
    "# # For each, print the vocabulary word and the number of times it \n",
    "# # appears in the training set\n",
    "# for tag, count in zip(vocab, dist):\n",
    "#     print(count, tag)"
   ]
  },
  {
   "cell_type": "markdown",
   "metadata": {
    "collapsed": true
   },
   "source": [
    "# Run LDA (takes a bit of time)"
   ]
  },
  {
   "cell_type": "code",
   "execution_count": 59,
   "metadata": {
    "collapsed": true
   },
   "outputs": [],
   "source": [
    "# Settings\n",
    "num_topics = 5\n",
    "num_iter = 500\n",
    "n_top_words = 5"
   ]
  },
  {
   "cell_type": "code",
   "execution_count": 60,
   "metadata": {},
   "outputs": [
    {
     "name": "stderr",
     "output_type": "stream",
     "text": [
      "INFO:lda:n_documents: 643\n",
      "INFO:lda:vocab_size: 12740\n",
      "INFO:lda:n_words: 317704\n",
      "INFO:lda:n_topics: 5\n",
      "INFO:lda:n_iter: 500\n",
      "INFO:lda:<0> log likelihood: -3040766\n",
      "INFO:lda:<10> log likelihood: -2786845\n",
      "INFO:lda:<20> log likelihood: -2702623\n",
      "INFO:lda:<30> log likelihood: -2658718\n",
      "INFO:lda:<40> log likelihood: -2632869\n",
      "INFO:lda:<50> log likelihood: -2616946\n",
      "INFO:lda:<60> log likelihood: -2605888\n",
      "INFO:lda:<70> log likelihood: -2600046\n",
      "INFO:lda:<80> log likelihood: -2593451\n",
      "INFO:lda:<90> log likelihood: -2588206\n",
      "INFO:lda:<100> log likelihood: -2585296\n",
      "INFO:lda:<110> log likelihood: -2581911\n",
      "INFO:lda:<120> log likelihood: -2579109\n",
      "INFO:lda:<130> log likelihood: -2576881\n",
      "INFO:lda:<140> log likelihood: -2573909\n",
      "INFO:lda:<150> log likelihood: -2573302\n",
      "INFO:lda:<160> log likelihood: -2573196\n",
      "INFO:lda:<170> log likelihood: -2570806\n",
      "INFO:lda:<180> log likelihood: -2570925\n",
      "INFO:lda:<190> log likelihood: -2569947\n",
      "INFO:lda:<200> log likelihood: -2566963\n",
      "INFO:lda:<210> log likelihood: -2567818\n",
      "INFO:lda:<220> log likelihood: -2567844\n",
      "INFO:lda:<230> log likelihood: -2566770\n",
      "INFO:lda:<240> log likelihood: -2567220\n",
      "INFO:lda:<250> log likelihood: -2566746\n",
      "INFO:lda:<260> log likelihood: -2566339\n",
      "INFO:lda:<270> log likelihood: -2564563\n",
      "INFO:lda:<280> log likelihood: -2564685\n",
      "INFO:lda:<290> log likelihood: -2562836\n",
      "INFO:lda:<300> log likelihood: -2561126\n",
      "INFO:lda:<310> log likelihood: -2560338\n",
      "INFO:lda:<320> log likelihood: -2561710\n",
      "INFO:lda:<330> log likelihood: -2560875\n",
      "INFO:lda:<340> log likelihood: -2560946\n",
      "INFO:lda:<350> log likelihood: -2560607\n",
      "INFO:lda:<360> log likelihood: -2560639\n",
      "INFO:lda:<370> log likelihood: -2559117\n",
      "INFO:lda:<380> log likelihood: -2559129\n",
      "INFO:lda:<390> log likelihood: -2559911\n",
      "INFO:lda:<400> log likelihood: -2558664\n",
      "INFO:lda:<410> log likelihood: -2558236\n",
      "INFO:lda:<420> log likelihood: -2558135\n",
      "INFO:lda:<430> log likelihood: -2557767\n",
      "INFO:lda:<440> log likelihood: -2558077\n",
      "INFO:lda:<450> log likelihood: -2557307\n",
      "INFO:lda:<460> log likelihood: -2557691\n",
      "INFO:lda:<470> log likelihood: -2557845\n",
      "INFO:lda:<480> log likelihood: -2556167\n",
      "INFO:lda:<490> log likelihood: -2555178\n",
      "INFO:lda:<499> log likelihood: -2554778\n"
     ]
    },
    {
     "name": "stdout",
     "output_type": "stream",
     "text": [
      "Topic 0: sir come good well go\n",
      "Topic 1: yet upon shall love would\n",
      "Topic 2: shall first us th honour\n",
      "Topic 3: love sweet fair eye one\n",
      "Topic 4: thou thi thee come enter\n"
     ]
    }
   ],
   "source": [
    "model = lda.LDA(n_topics=num_topics, n_iter=num_iter)\n",
    "model.fit(data)\n",
    "\n",
    "topic_word = model.topic_word_\n",
    "\n",
    "vocab_array = np.array(vocab)\n",
    "\n",
    "for i, topic_dist in enumerate(topic_word):\n",
    "    topic_words = vocab_array[np.argsort(topic_dist)][:-(n_top_words+1):-1]\n",
    "    print('Topic {}: {}'.format(i, ' '.join(topic_words)))"
   ]
  },
  {
   "cell_type": "code",
   "execution_count": 76,
   "metadata": {},
   "outputs": [
    {
     "data": {
      "image/png": "[encoded data removed]",
      "text/plain": [
       "<matplotlib.figure.Figure at 0x1161ebe90>"
      ]
     },
     "metadata": {},
     "output_type": "display_data"
    },
    {
     "data": {
      "image/png": "[encoded data removed]",
      "text/plain": [
       "<matplotlib.figure.Figure at 0x1160e9350>"
      ]
     },
     "metadata": {},
     "output_type": "display_data"
    },
    {
     "data": {
      "image/png": "[encoded data removed]",
      "text/plain": [
       "<matplotlib.figure.Figure at 0x1162c9d90>"
      ]
     },
     "metadata": {},
     "output_type": "display_data"
    },
    {
     "data": {
      "image/png": "[encoded data removed]",
      "text/plain": [
       "<matplotlib.figure.Figure at 0x117018c10>"
      ]
     },
     "metadata": {},
     "output_type": "display_data"
    },
    {
     "data": {
      "image/png": "[encoded data removed]",
      "text/plain": [
       "<matplotlib.figure.Figure at 0x116390bd0>"
      ]
     },
     "metadata": {},
     "output_type": "display_data"
    }
   ],
   "source": [
    "# Plot distribution of probability mass over most common words in each topic\n",
    "\n",
    "sns.mpl.rc(\"figure\", figsize=(2.5,2))\n",
    "savebase = \"figures/topic_distributions_{}/\".format(len(topic_word))\n",
    "\n",
    "if not os.path.exists(savebase):\n",
    "    os.makedirs(savebase)\n",
    "\n",
    "n_plotted = 10\n",
    "\n",
    "vocab_array = np.array(vocab)\n",
    "\n",
    "for i, topic_dist in enumerate(topic_word):\n",
    "    top_words = vocab_array[np.argsort(topic_dist)][:-(n_plotted+1):-1]\n",
    "    top_probs = topic_dist[np.argsort(topic_dist)][:-(n_plotted+1):-1]\n",
    "    ax = sns.barplot(x=top_words, y=top_probs, palette=\"Blues_r\")\n",
    "    ax.set_xticklabels(ax.get_xticklabels(), rotation=45)\n",
    "    ax.get_yaxis().set_visible(False)\n",
    "    ax.ylabel = \"Probability Mass\"\n",
    "    ax.set_title(\"Topic {}\".format(i))\n",
    "    plt.tight_layout()\n",
    "    plt.savefig(savebase + \"topic_{}.png\".format(i))\n",
    "    plt.show()\n",
    "    \n",
    "    "
   ]
  },
  {
   "cell_type": "markdown",
   "metadata": {},
   "source": [
    "# TODO\n",
    "\n",
    "## Better preprocessing\n",
    "\n",
    "* Look for more lines to remove while parsing corpus (e.g. Enter [NAME], ...)\n",
    "* Downweight words by frequency? tf-idf for example?\n",
    "* Find better stemmer\n",
    "\n",
    "\n",
    "## General directions\n",
    "\n",
    "* Compare stage direction and setting vs. topics from dialogue\n"
   ]
  },
  {
   "cell_type": "code",
   "execution_count": null,
   "metadata": {
    "collapsed": true
   },
   "outputs": [],
   "source": []
  }
 ],
 "metadata": {
  "kernelspec": {
   "display_name": "Python 2",
   "language": "python",
   "name": "python2"
  },
  "language_info": {
   "codemirror_mode": {
    "name": "ipython",
    "version": 2
   },
   "file_extension": ".py",
   "mimetype": "text/x-python",
   "name": "python",
   "nbconvert_exporter": "python",
   "pygments_lexer": "ipython2",
   "version": "2.7.12"
  }
 },
 "nbformat": 4,
 "nbformat_minor": 2
}
